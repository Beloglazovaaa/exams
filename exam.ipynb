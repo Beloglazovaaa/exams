{
 "cells": [
  {
   "cell_type": "markdown",
   "metadata": {},
   "source": [
    "1.  Напишите программу, которая создает нить. Родительская и вновь созданная нити должны распечатать десять строк текста."
   ]
  },
  {
   "cell_type": "code",
   "execution_count": null,
   "metadata": {
    "vscode": {
     "languageId": "plaintext"
    }
   },
   "outputs": [],
   "source": [
    "import threading\n",
    "\n",
    "# Функция, которую будет выполнять нить\n",
    "def print_ten_lines():\n",
    "    for i in range(10):\n",
    "        print(\"This is line\", i+1)\n",
    "\n",
    "# Создание новой нити\n",
    "thread = threading.Thread(target=print_ten_lines)\n",
    "\n",
    "# Запуск нити\n",
    "thread.start()\n",
    "\n",
    "# Главная нить также будет печатать десять строк текста\n",
    "for i in range(10):\n",
    "    print(\"This is line\", i+1)"
   ]
  },
  {
   "cell_type": "markdown",
   "metadata": {},
   "source": [
    "2. Напишите простой эхо-сервер, использующий неблокирующие сокеты и клиент к нему."
   ]
  },
  {
   "cell_type": "markdown",
   "metadata": {},
   "source": [
    "Сервер:"
   ]
  },
  {
   "cell_type": "code",
   "execution_count": null,
   "metadata": {
    "vscode": {
     "languageId": "plaintext"
    }
   },
   "outputs": [],
   "source": [
    "import socket\n",
    "\n",
    "# Создание сокета\n",
    "server_socket = socket.socket(socket.AF_INET, socket.SOCK_STREAM)\n",
    "\n",
    "# Установка опции сокета для неблокирующего режима\n",
    "server_socket.setblocking(False)\n",
    "\n",
    "# Привязка сокета к адресу и порту\n",
    "server_socket.bind(('localhost', 8888))\n",
    "\n",
    "# Прослушивание подключений\n",
    "server_socket.listen(5)\n",
    "print(\"Server is listening...\")\n",
    "\n",
    "# Список подключенных клиентов\n",
    "clients = []\n",
    "\n",
    "# Функция для обработки входящих соединений и данных\n",
    "def handle_connections():\n",
    "    while True:\n",
    "        # Принятие входящего соединения\n",
    "        try:\n",
    "            client_socket, client_address = server_socket.accept()\n",
    "            print(f\"Connection from {client_address}\")\n",
    "            # Добавление клиента в список\n",
    "            clients.append(client_socket)\n",
    "        except BlockingIOError:\n",
    "            pass\n",
    "\n",
    "        # Обработка входящих данных от клиентов\n",
    "        for client in clients:\n",
    "            try:\n",
    "                data = client.recv(1024)\n",
    "                if data:\n",
    "                    print(f\"Received: {data.decode()}\")\n",
    "                    # Отправка обратно данных клиенту\n",
    "                    client.sendall(data)\n",
    "                else:\n",
    "                    # Если клиент закрыл соединение, удаляем его из списка\n",
    "                    clients.remove(client)\n",
    "                    client.close()\n",
    "            except BlockingIOError:\n",
    "                pass\n",
    "\n",
    "# Запуск функции для обработки соединений в отдельном потоке\n",
    "import threading\n",
    "threading.Thread(target=handle_connections).start()"
   ]
  },
  {
   "cell_type": "markdown",
   "metadata": {},
   "source": [
    "Клиент:"
   ]
  },
  {
   "cell_type": "code",
   "execution_count": null,
   "metadata": {
    "vscode": {
     "languageId": "plaintext"
    }
   },
   "outputs": [],
   "source": [
    "import socket\n",
    "\n",
    "# Создание сокета\n",
    "client_socket = socket.socket(socket.AF_INET, socket.SOCK_STREAM)\n",
    "\n",
    "# Подключение к серверу\n",
    "client_socket.connect(('localhost', 8888))\n",
    "\n",
    "# Отправка данных серверу\n",
    "client_socket.sendall(b\"Hello, server!\")\n",
    "\n",
    "# Получение данных от сервера\n",
    "data = client_socket.recv(1024)\n",
    "print(\"Received from server:\", data.decode())\n",
    "\n",
    "# Закрытие соединения\n",
    "client_socket.close()"
   ]
  },
  {
   "cell_type": "markdown",
   "metadata": {},
   "source": [
    "3. Напишите простой многопоточный загрузчик URL. Список URL скрипт принимает как аргументы командной строки."
   ]
  },
  {
   "cell_type": "code",
   "execution_count": null,
   "metadata": {
    "vscode": {
     "languageId": "plaintext"
    }
   },
   "outputs": [],
   "source": [
    "import threading\n",
    "import requests\n",
    "import sys\n",
    "\n",
    "# Функция для загрузки URL\n",
    "def load_url(url):\n",
    "    try:\n",
    "        response = requests.get(url)\n",
    "        print(f\"Loaded {url} with status code {response.status_code}\")\n",
    "    except Exception as e:\n",
    "        print(f\"Error loading {url}: {e}\")\n",
    "\n",
    "# Функция для создания и запуска нитей для загрузки URL\n",
    "def start_threads(urls):\n",
    "    threads = []\n",
    "    for url in urls:\n",
    "        thread = threading.Thread(target=load_url, args=(url,))\n",
    "        threads.append(thread)\n",
    "        thread.start()\n",
    "    # Ожидание завершения всех нитей\n",
    "    for thread in threads:\n",
    "        thread.join()\n",
    "\n",
    "if __name__ == \"__main__\":\n",
    "    # Проверка наличия аргументов командной строки\n",
    "    if len(sys.argv) < 2:\n",
    "        print(\"Usage: python downloader.py url1 url2 url3 ...\")\n",
    "        sys.exit(1)\n",
    "\n",
    "    # Получение списка URL из аргументов командной строки\n",
    "    urls = sys.argv[1:]\n",
    "\n",
    "    # Запуск загрузки URL в многопоточном режиме\n",
    "    start_threads(urls)"
   ]
  }
 ],
 "metadata": {
  "language_info": {
   "name": "python"
  }
 },
 "nbformat": 4,
 "nbformat_minor": 2
}
